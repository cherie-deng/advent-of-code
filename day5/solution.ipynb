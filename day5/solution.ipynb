{
 "cells": [
  {
   "cell_type": "markdown",
   "metadata": {},
   "source": [
    "# Day 1"
   ]
  },
  {
   "cell_type": "code",
   "execution_count": 1,
   "metadata": {
    "dotnet_interactive": {
     "language": "csharp"
    },
    "polyglot_notebook": {
     "language": "csharp"
    },
    "vscode": {
     "languageId": "dotnet-interactive.csharp"
    }
   },
   "outputs": [],
   "source": [
    "using System.IO;\n",
    "var input = File.ReadAllLines(\"./input.txt\");"
   ]
  },
  {
   "cell_type": "markdown",
   "metadata": {},
   "source": [
    "## Part 1"
   ]
  },
  {
   "cell_type": "code",
   "execution_count": 2,
   "metadata": {
    "dotnet_interactive": {
     "language": "csharp"
    },
    "vscode": {
     "languageId": "dotnet-interactive.csharp"
    }
   },
   "outputs": [
    {
     "data": {
      "text/html": [
       "<table><thead><tr><th><i>key</i></th><th>value</th></tr></thead><tbody><tr><td><div class=\"dni-plaintext\">1</div></td><td><div class=\"dni-plaintext\">[ W, P, G, Z, V, S, B ]</div></td></tr><tr><td><div class=\"dni-plaintext\">2</div></td><td><div class=\"dni-plaintext\">[ F, Z, C, B, V, J ]</div></td></tr><tr><td><div class=\"dni-plaintext\">3</div></td><td><div class=\"dni-plaintext\">[ C, D, Z, N, H, M, L, V ]</div></td></tr><tr><td><div class=\"dni-plaintext\">4</div></td><td><div class=\"dni-plaintext\">[ B, J, F, P, Z, M, D, L ]</div></td></tr><tr><td><div class=\"dni-plaintext\">5</div></td><td><div class=\"dni-plaintext\">[ H, Q, B, J, G, C, F, V ]</div></td></tr><tr><td><div class=\"dni-plaintext\">6</div></td><td><div class=\"dni-plaintext\">[ B, L, S, T, Q, F, G ]</div></td></tr><tr><td><div class=\"dni-plaintext\">7</div></td><td><div class=\"dni-plaintext\">[ V, Z, C, G, L ]</div></td></tr><tr><td><div class=\"dni-plaintext\">8</div></td><td><div class=\"dni-plaintext\">[ G, L, N ]</div></td></tr><tr><td><div class=\"dni-plaintext\">9</div></td><td><div class=\"dni-plaintext\">[ C, H, F, J ]</div></td></tr></tbody></table>"
      ]
     },
     "metadata": {},
     "output_type": "display_data"
    }
   ],
   "source": [
    "// Find the number of stacks\n",
    "var separator = Array.IndexOf(input, \"\");\n",
    "var stacks = input[separator-1].Split(\"   \");\n",
    "var numStacks = Int32.Parse(stacks[stacks.Length-1]);\n",
    "\n",
    "// Setup stacks\n",
    "var stackMap = new Dictionary<int, Stack<char>>();\n",
    "for (var i = 1; i <= numStacks; i++) {\n",
    "    stackMap.Add(i, new Stack<char>());\n",
    "}\n",
    "\n",
    "// Parse stacks\n",
    "for (var i = separator-2; i >= 0; i--) {\n",
    "    var line = input[i];\n",
    "    for (var stack = 1; stack <= numStacks; stack++) {\n",
    "        var crate = line[4*stack - 3];\n",
    "        if (crate != ' ') {\n",
    "            stackMap[stack].Push(crate);\n",
    "        }\n",
    "    }\n",
    "}\n",
    "stackMap"
   ]
  },
  {
   "cell_type": "code",
   "execution_count": 3,
   "metadata": {
    "dotnet_interactive": {
     "language": "csharp"
    },
    "vscode": {
     "languageId": "dotnet-interactive.csharp"
    }
   },
   "outputs": [],
   "source": [
    "// Move crates\n",
    "for (var i = separator + 1; i < input.Length; i++) {\n",
    "    var moves = input[i].Split(\" \");\n",
    "    var numCrates = Int32.Parse(moves[1]);\n",
    "    var from = Int32.Parse(moves[3]);\n",
    "    var to = Int32.Parse(moves[5]);\n",
    "\n",
    "    for (var j = 0; j < numCrates; j++) {\n",
    "        var crateToMove = stackMap[from].Pop();\n",
    "        stackMap[to].Push(crateToMove);\n",
    "    }\n",
    "}"
   ]
  },
  {
   "cell_type": "code",
   "execution_count": 4,
   "metadata": {
    "dotnet_interactive": {
     "language": "csharp"
    },
    "vscode": {
     "languageId": "dotnet-interactive.csharp"
    }
   },
   "outputs": [
    {
     "data": {
      "text/plain": [
       "VJSFHWGFT"
      ]
     },
     "metadata": {},
     "output_type": "display_data"
    }
   ],
   "source": [
    "// Find top crates\n",
    "var topCrates = \"\";\n",
    "for (var i = 1; i <= numStacks; i++) {\n",
    "    topCrates += stackMap[i].Pop();\n",
    "}\n",
    "topCrates"
   ]
  },
  {
   "cell_type": "markdown",
   "metadata": {},
   "source": [
    "## Part 2"
   ]
  },
  {
   "cell_type": "code",
   "execution_count": 5,
   "metadata": {
    "dotnet_interactive": {
     "language": "csharp"
    },
    "vscode": {
     "languageId": "dotnet-interactive.csharp"
    }
   },
   "outputs": [
    {
     "data": {
      "text/html": [
       "<table><thead><tr><th><i>key</i></th><th>value</th></tr></thead><tbody><tr><td><div class=\"dni-plaintext\">1</div></td><td><div class=\"dni-plaintext\">[ W, P, G, Z, V, S, B ]</div></td></tr><tr><td><div class=\"dni-plaintext\">2</div></td><td><div class=\"dni-plaintext\">[ F, Z, C, B, V, J ]</div></td></tr><tr><td><div class=\"dni-plaintext\">3</div></td><td><div class=\"dni-plaintext\">[ C, D, Z, N, H, M, L, V ]</div></td></tr><tr><td><div class=\"dni-plaintext\">4</div></td><td><div class=\"dni-plaintext\">[ B, J, F, P, Z, M, D, L ]</div></td></tr><tr><td><div class=\"dni-plaintext\">5</div></td><td><div class=\"dni-plaintext\">[ H, Q, B, J, G, C, F, V ]</div></td></tr><tr><td><div class=\"dni-plaintext\">6</div></td><td><div class=\"dni-plaintext\">[ B, L, S, T, Q, F, G ]</div></td></tr><tr><td><div class=\"dni-plaintext\">7</div></td><td><div class=\"dni-plaintext\">[ V, Z, C, G, L ]</div></td></tr><tr><td><div class=\"dni-plaintext\">8</div></td><td><div class=\"dni-plaintext\">[ G, L, N ]</div></td></tr><tr><td><div class=\"dni-plaintext\">9</div></td><td><div class=\"dni-plaintext\">[ C, H, F, J ]</div></td></tr></tbody></table>"
      ]
     },
     "metadata": {},
     "output_type": "display_data"
    }
   ],
   "source": [
    "// Reset stack map\n",
    "var stackMap = new Dictionary<int, Stack<char>>();\n",
    "for (var i = 1; i <= numStacks; i++) {\n",
    "    stackMap.Add(i, new Stack<char>());\n",
    "}\n",
    "\n",
    "for (var i = separator-2; i >= 0; i--) {\n",
    "    var line = input[i];\n",
    "    for (var stack = 1; stack <= numStacks; stack++) {\n",
    "        var crate = line[4*stack - 3];\n",
    "        if (crate != ' ') {\n",
    "            stackMap[stack].Push(crate);\n",
    "        }\n",
    "    }\n",
    "}\n",
    "stackMap"
   ]
  },
  {
   "cell_type": "code",
   "execution_count": 6,
   "metadata": {
    "dotnet_interactive": {
     "language": "csharp"
    },
    "vscode": {
     "languageId": "dotnet-interactive.csharp"
    }
   },
   "outputs": [],
   "source": [
    "// Move crates\n",
    "for (var i = separator + 1; i < input.Length; i++) {\n",
    "    var moves = input[i].Split(\" \");\n",
    "    var numCrates = Int32.Parse(moves[1]);\n",
    "    var from = Int32.Parse(moves[3]);\n",
    "    var to = Int32.Parse(moves[5]);\n",
    "\n",
    "    var cratesToMove = new List<char>();\n",
    "    for (var j = 0; j < numCrates; j++) {\n",
    "        cratesToMove.Add(stackMap[from].Pop());\n",
    "    }\n",
    "    cratesToMove.Reverse();\n",
    "    for (var j = 0; j < cratesToMove.Count; j++) {\n",
    "        stackMap[to].Push(cratesToMove[j]);\n",
    "    }\n",
    "}"
   ]
  },
  {
   "cell_type": "code",
   "execution_count": 7,
   "metadata": {
    "dotnet_interactive": {
     "language": "csharp"
    },
    "vscode": {
     "languageId": "dotnet-interactive.csharp"
    }
   },
   "outputs": [
    {
     "data": {
      "text/plain": [
       "LCTQFBVZV"
      ]
     },
     "metadata": {},
     "output_type": "display_data"
    }
   ],
   "source": [
    "// Find top crates\n",
    "var topCrates = \"\";\n",
    "for (var i = 1; i <= numStacks; i++) {\n",
    "    topCrates += stackMap[i].Pop();\n",
    "}\n",
    "topCrates"
   ]
  }
 ],
 "metadata": {
  "kernelspec": {
   "display_name": ".NET (C#)",
   "language": "C#",
   "name": ".net-csharp"
  },
  "language_info": {
   "name": "C#"
  }
 },
 "nbformat": 4,
 "nbformat_minor": 2
}
