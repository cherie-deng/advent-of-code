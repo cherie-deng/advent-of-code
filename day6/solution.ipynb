{
 "cells": [
  {
   "cell_type": "markdown",
   "metadata": {},
   "source": [
    "# Day 6"
   ]
  },
  {
   "cell_type": "code",
   "execution_count": 37,
   "metadata": {
    "dotnet_interactive": {
     "language": "csharp"
    },
    "polyglot_notebook": {
     "language": "csharp"
    },
    "vscode": {
     "languageId": "dotnet-interactive.csharp"
    }
   },
   "outputs": [],
   "source": [
    "using System.IO;\n",
    "var input = File.ReadAllLines(\"./input.txt\")[0];"
   ]
  },
  {
   "cell_type": "markdown",
   "metadata": {},
   "source": [
    "## Part 1"
   ]
  },
  {
   "cell_type": "code",
   "execution_count": 38,
   "metadata": {
    "dotnet_interactive": {
     "language": "csharp"
    },
    "vscode": {
     "languageId": "dotnet-interactive.csharp"
    }
   },
   "outputs": [
    {
     "name": "stdout",
     "output_type": "stream",
     "text": [
      "1142\n"
     ]
    }
   ],
   "source": [
    "var marker = 4;\n",
    "while (marker <= input.Length) { // Account for 1-based indexing\n",
    "    var set = new HashSet<char>();\n",
    "    for (var i = marker-4; i < marker; i++) {\n",
    "        set.Add(input[i]);\n",
    "    }\n",
    "    if (set.Count == 4) {\n",
    "        Console.WriteLine(marker);\n",
    "        break;\n",
    "    }\n",
    "    marker++;\n",
    "}"
   ]
  },
  {
   "cell_type": "markdown",
   "metadata": {},
   "source": [
    "## Part 2"
   ]
  },
  {
   "cell_type": "code",
   "execution_count": 39,
   "metadata": {
    "dotnet_interactive": {
     "language": "csharp"
    },
    "vscode": {
     "languageId": "dotnet-interactive.csharp"
    }
   },
   "outputs": [
    {
     "name": "stdout",
     "output_type": "stream",
     "text": [
      "2803\n"
     ]
    }
   ],
   "source": [
    "var marker = 14;\n",
    "while (marker <= input.Length) {\n",
    "    var set = new HashSet<char>();\n",
    "    for (var i = marker-14; i < marker; i++) {\n",
    "        set.Add(input[i]);\n",
    "    }\n",
    "    if (set.Count == 14) {\n",
    "        Console.WriteLine(marker);\n",
    "        break;\n",
    "    }\n",
    "    marker++;\n",
    "}"
   ]
  }
 ],
 "metadata": {
  "kernelspec": {
   "display_name": ".NET (C#)",
   "language": "C#",
   "name": ".net-csharp"
  },
  "language_info": {
   "name": "C#"
  }
 },
 "nbformat": 4,
 "nbformat_minor": 2
}
