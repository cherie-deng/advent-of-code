{
 "cells": [
  {
   "cell_type": "markdown",
   "metadata": {},
   "source": [
    "# Day 3"
   ]
  },
  {
   "cell_type": "code",
   "execution_count": 1,
   "metadata": {
    "dotnet_interactive": {
     "language": "csharp"
    },
    "polyglot_notebook": {
     "language": "csharp"
    },
    "vscode": {
     "languageId": "dotnet-interactive.csharp"
    }
   },
   "outputs": [],
   "source": [
    "using System.IO;\n",
    "var input = File.ReadAllLines(\"./input.txt\");"
   ]
  },
  {
   "cell_type": "markdown",
   "metadata": {},
   "source": [
    "## Part 1"
   ]
  },
  {
   "cell_type": "code",
   "execution_count": 2,
   "metadata": {
    "dotnet_interactive": {
     "language": "csharp"
    },
    "vscode": {
     "languageId": "dotnet-interactive.csharp"
    }
   },
   "outputs": [],
   "source": [
    "var alphabet = \"_abcdefghijklmnopqrstuvwxyzABCDEFGHIJKLMNOPQRSTUVWXYZ\";\n",
    "\n",
    "int PriorityOf(char c) {\n",
    "    return alphabet.IndexOf(c);\n",
    "}"
   ]
  },
  {
   "cell_type": "code",
   "execution_count": 3,
   "metadata": {
    "dotnet_interactive": {
     "language": "csharp"
    },
    "vscode": {
     "languageId": "dotnet-interactive.csharp"
    }
   },
   "outputs": [
    {
     "data": {
      "text/html": [
       "<div class=\"dni-plaintext\">8233</div>"
      ]
     },
     "metadata": {},
     "output_type": "display_data"
    }
   ],
   "source": [
    "var sum = 0;\n",
    "foreach (var rucksack in input) {\n",
    "    var first = String.Join(\"\", rucksack.Substring(0, (int)(rucksack.Length / 2)).Distinct());;\n",
    "    var second = String.Join(\"\", rucksack.Substring((int)(rucksack.Length / 2), (int)(rucksack.Length / 2)));\n",
    "    var duplicate = '_';\n",
    "    for (var i = 0; i < first.Length; i++) {\n",
    "        if (second.Contains(first[i])) {\n",
    "            duplicate = first[i];\n",
    "            break;\n",
    "        }\n",
    "    }\n",
    "    sum += PriorityOf(duplicate);\n",
    "}\n",
    "sum"
   ]
  },
  {
   "cell_type": "markdown",
   "metadata": {},
   "source": [
    "## Part 2"
   ]
  },
  {
   "cell_type": "code",
   "execution_count": 4,
   "metadata": {
    "dotnet_interactive": {
     "language": "csharp"
    },
    "vscode": {
     "languageId": "dotnet-interactive.csharp"
    }
   },
   "outputs": [
    {
     "data": {
      "text/html": [
       "<div class=\"dni-plaintext\">2821</div>"
      ]
     },
     "metadata": {},
     "output_type": "display_data"
    }
   ],
   "source": [
    "var sum = 0;\n",
    "for (var i = 0; i < input.Length - 2; i += 3) {\n",
    "    var first = String.Join(\"\", input[i].Distinct());\n",
    "    var second = String.Join(\"\", input[i+1].Distinct());\n",
    "    var third = String.Join(\"\", input[i+2].Distinct());\n",
    "    var badge = '_';\n",
    "    for (var j = 0; j < first.Length; j++) {\n",
    "        if (second.Contains(first[j]) && third.Contains(first[j])) {\n",
    "            badge = first[j];\n",
    "            break;\n",
    "        }\n",
    "    }\n",
    "    sum += PriorityOf(badge);\n",
    "}\n",
    "sum"
   ]
  }
 ],
 "metadata": {
  "kernelspec": {
   "display_name": ".NET (C#)",
   "language": "C#",
   "name": ".net-csharp"
  },
  "language_info": {
   "name": "C#"
  }
 },
 "nbformat": 4,
 "nbformat_minor": 2
}
