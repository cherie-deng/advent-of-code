{
 "cells": [
  {
   "cell_type": "markdown",
   "metadata": {},
   "source": [
    "# Day 2"
   ]
  },
  {
   "cell_type": "code",
   "execution_count": 1,
   "metadata": {
    "dotnet_interactive": {
     "language": "csharp"
    },
    "polyglot_notebook": {
     "language": "csharp"
    },
    "vscode": {
     "languageId": "dotnet-interactive.csharp"
    }
   },
   "outputs": [],
   "source": [
    "using System.IO;\n",
    "var input = File.ReadAllLines(\"./input.txt\");"
   ]
  },
  {
   "cell_type": "markdown",
   "metadata": {},
   "source": [
    "## Part 1"
   ]
  },
  {
   "cell_type": "code",
   "execution_count": 2,
   "metadata": {
    "dotnet_interactive": {
     "language": "csharp"
    },
    "vscode": {
     "languageId": "dotnet-interactive.csharp"
    }
   },
   "outputs": [],
   "source": [
    "var movesMap = new Dictionary<string, string>{\n",
    "    { \"A\", \"Rock\" },\n",
    "    { \"B\", \"Paper\" },\n",
    "    { \"C\", \"Scissors\" },\n",
    "    { \"X\", \"Rock\" },\n",
    "    { \"Y\", \"Paper\" },\n",
    "    { \"Z\", \"Scissors\" },\n",
    "};\n",
    "\n",
    "var shapeScoresMap = new Dictionary<string, int>{\n",
    "    { \"Rock\", 1 },\n",
    "    { \"Paper\", 2 },\n",
    "    { \"Scissors\", 3 },\n",
    "};\n",
    "\n",
    "var outcomeScoresMap = new Dictionary<string, int>{\n",
    "    { \"lose\", 0 },\n",
    "    { \"draw\", 3 },\n",
    "    { \"win\", 6 },\n",
    "};"
   ]
  },
  {
   "cell_type": "code",
   "execution_count": 3,
   "metadata": {
    "dotnet_interactive": {
     "language": "csharp"
    },
    "vscode": {
     "languageId": "dotnet-interactive.csharp"
    }
   },
   "outputs": [],
   "source": [
    "string CalculateRoundOutcome(string elfMove, string move) {\n",
    "    if (elfMove.Equals(move)) {\n",
    "        return \"draw\";\n",
    "    }\n",
    "    if (move.Equals(\"Rock\") && (elfMove.Equals(\"Scissors\"))\n",
    "        || move.Equals(\"Scissors\") && (elfMove.Equals(\"Paper\"))\n",
    "        || move.Equals(\"Paper\") && (elfMove.Equals(\"Rock\"))) {\n",
    "        return \"win\";\n",
    "    }\n",
    "    return \"lose\";\n",
    "}"
   ]
  },
  {
   "cell_type": "code",
   "execution_count": 4,
   "metadata": {
    "dotnet_interactive": {
     "language": "csharp"
    },
    "vscode": {
     "languageId": "dotnet-interactive.csharp"
    }
   },
   "outputs": [],
   "source": [
    "int CalculateRoundScore(string elfMove, string move) {\n",
    "    var score = 0;\n",
    "    score += shapeScoresMap[move];\n",
    "    score += outcomeScoresMap[CalculateRoundOutcome(elfMove, move)];\n",
    "    return score;\n",
    "}"
   ]
  },
  {
   "cell_type": "code",
   "execution_count": 5,
   "metadata": {
    "dotnet_interactive": {
     "language": "csharp"
    },
    "vscode": {
     "languageId": "dotnet-interactive.csharp"
    }
   },
   "outputs": [
    {
     "data": {
      "text/html": [
       "<div class=\"dni-plaintext\">17189</div>"
      ]
     },
     "metadata": {},
     "output_type": "display_data"
    }
   ],
   "source": [
    "var score = 0;\n",
    "foreach (var line in input) \n",
    "{\n",
    "    var moves = line.Split(\" \");\n",
    "    score += CalculateRoundScore(movesMap[moves[0]], movesMap[moves[1]]);\n",
    "}\n",
    "score"
   ]
  },
  {
   "cell_type": "markdown",
   "metadata": {},
   "source": [
    "## Part 2"
   ]
  },
  {
   "cell_type": "code",
   "execution_count": 6,
   "metadata": {
    "dotnet_interactive": {
     "language": "csharp"
    },
    "vscode": {
     "languageId": "dotnet-interactive.csharp"
    }
   },
   "outputs": [],
   "source": [
    "var outcomeMap = new Dictionary<string, string>{\n",
    "    { \"X\", \"lose\" },\n",
    "    { \"Y\", \"draw\" },\n",
    "    { \"Z\", \"win\" },\n",
    "};\n",
    "\n",
    "var loseMap = new Dictionary<string, string>{\n",
    "    { \"Rock\", \"Scissors\" },\n",
    "    { \"Paper\", \"Rock\" },\n",
    "    { \"Scissors\", \"Paper\" },\n",
    "};\n",
    "\n",
    "var drawMap = new Dictionary<string, string>{\n",
    "    { \"Rock\", \"Rock\" },\n",
    "    { \"Paper\", \"Paper\" },\n",
    "    { \"Scissors\", \"Scissors\" },\n",
    "};\n",
    "\n",
    "var winMap = new Dictionary<string, string>{\n",
    "    { \"Rock\", \"Paper\" },\n",
    "    { \"Paper\", \"Scissors\" },\n",
    "    { \"Scissors\", \"Rock\" },\n",
    "};"
   ]
  },
  {
   "cell_type": "code",
   "execution_count": 7,
   "metadata": {
    "dotnet_interactive": {
     "language": "csharp"
    },
    "vscode": {
     "languageId": "dotnet-interactive.csharp"
    }
   },
   "outputs": [],
   "source": [
    "int CalculateRoundScore2(string elfMove, string outcome) {\n",
    "    var move = \"\";\n",
    "    switch (outcome){\n",
    "        case \"lose\":\n",
    "            move = loseMap[elfMove];\n",
    "            break;\n",
    "        case \"draw\":\n",
    "            move = drawMap[elfMove];\n",
    "            break;\n",
    "        case \"win\":\n",
    "            move = winMap[elfMove];\n",
    "            break;\n",
    "    }\n",
    "    \n",
    "    var score = 0;\n",
    "    score += shapeScoresMap[move];\n",
    "    score += outcomeScoresMap[CalculateRoundOutcome(elfMove, move)];\n",
    "    return score;\n",
    "}"
   ]
  },
  {
   "cell_type": "code",
   "execution_count": 8,
   "metadata": {
    "dotnet_interactive": {
     "language": "csharp"
    },
    "vscode": {
     "languageId": "dotnet-interactive.csharp"
    }
   },
   "outputs": [
    {
     "data": {
      "text/html": [
       "<div class=\"dni-plaintext\">13490</div>"
      ]
     },
     "metadata": {},
     "output_type": "display_data"
    }
   ],
   "source": [
    "var score = 0;\n",
    "foreach (var line in input) \n",
    "{\n",
    "    var moves = line.Split(\" \");\n",
    "    score += CalculateRoundScore2(movesMap[moves[0]], outcomeMap[moves[1]]);\n",
    "}\n",
    "score"
   ]
  }
 ],
 "metadata": {
  "kernelspec": {
   "display_name": ".NET (C#)",
   "language": "C#",
   "name": ".net-csharp"
  },
  "language_info": {
   "name": "C#"
  }
 },
 "nbformat": 4,
 "nbformat_minor": 2
}
