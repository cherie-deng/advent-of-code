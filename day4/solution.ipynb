{
 "cells": [
  {
   "cell_type": "markdown",
   "metadata": {},
   "source": [
    "# Day 4"
   ]
  },
  {
   "cell_type": "code",
   "execution_count": 1,
   "metadata": {
    "dotnet_interactive": {
     "language": "csharp"
    },
    "polyglot_notebook": {
     "language": "csharp"
    },
    "vscode": {
     "languageId": "dotnet-interactive.csharp"
    }
   },
   "outputs": [],
   "source": [
    "using System.IO;\n",
    "var input = File.ReadAllLines(\"./input.txt\");"
   ]
  },
  {
   "cell_type": "markdown",
   "metadata": {},
   "source": [
    "## Part 1"
   ]
  },
  {
   "cell_type": "code",
   "execution_count": 2,
   "metadata": {
    "dotnet_interactive": {
     "language": "csharp"
    },
    "vscode": {
     "languageId": "dotnet-interactive.csharp"
    }
   },
   "outputs": [],
   "source": [
    "bool FullyContained(string line) {\n",
    "    var sections = line.Split(\",\");\n",
    "    var one = sections[0].Split(\"-\");\n",
    "    var two = sections[1].Split(\"-\");\n",
    "\n",
    "    var start1 = Int32.Parse(one[0]);\n",
    "    var end1 = Int32.Parse(one[1]);\n",
    "    var start2 = Int32.Parse(two[0]);\n",
    "    var end2 = Int32.Parse(two[1]);\n",
    "    \n",
    "    if ((start1 <= start2) && (end1 >= end2)) {\n",
    "        // 1 contains 2\n",
    "        return true;\n",
    "    }\n",
    "    if ((start2 <= start1) && (end2 >= end1)) {\n",
    "        // 2 contains 1\n",
    "        return true;\n",
    "    }\n",
    "    return false;\n",
    "}"
   ]
  },
  {
   "cell_type": "code",
   "execution_count": 3,
   "metadata": {
    "dotnet_interactive": {
     "language": "csharp"
    },
    "vscode": {
     "languageId": "dotnet-interactive.csharp"
    }
   },
   "outputs": [
    {
     "data": {
      "text/html": [
       "<div class=\"dni-plaintext\">540</div>"
      ]
     },
     "metadata": {},
     "output_type": "display_data"
    }
   ],
   "source": [
    "var fullyContained = 0;\n",
    "foreach (var line in input) {\n",
    "    if (FullyContained(line)) {\n",
    "        fullyContained++;\n",
    "    }\n",
    "}\n",
    "fullyContained"
   ]
  },
  {
   "cell_type": "markdown",
   "metadata": {},
   "source": [
    "## Part 2"
   ]
  },
  {
   "cell_type": "code",
   "execution_count": 4,
   "metadata": {
    "dotnet_interactive": {
     "language": "csharp"
    },
    "vscode": {
     "languageId": "dotnet-interactive.csharp"
    }
   },
   "outputs": [],
   "source": [
    "bool Overlap(string line) {\n",
    "    var sections = line.Split(\",\");\n",
    "    var one = sections[0].Split(\"-\");\n",
    "    var two = sections[1].Split(\"-\");\n",
    "\n",
    "    var start1 = Int32.Parse(one[0]);\n",
    "    var end1 = Int32.Parse(one[1]);\n",
    "    var start2 = Int32.Parse(two[0]);\n",
    "    var end2 = Int32.Parse(two[1]);\n",
    "\n",
    "    if ((start1 <= start2) && (end1 >= start2)) {\n",
    "        // Console.WriteLine($\"{start1}-{end1},{start2}-{end2}\");\n",
    "        return true;\n",
    "    }\n",
    "    if ((start2 <= start1) && (end2 >= start1)) {\n",
    "        // Console.WriteLine($\"{start1}-{end1},{start2}-{end2}\");\n",
    "        return true;\n",
    "    }\n",
    "\n",
    "    \n",
    "    return false;\n",
    "}"
   ]
  },
  {
   "cell_type": "code",
   "execution_count": 5,
   "metadata": {
    "dotnet_interactive": {
     "language": "csharp"
    },
    "vscode": {
     "languageId": "dotnet-interactive.csharp"
    }
   },
   "outputs": [
    {
     "data": {
      "text/html": [
       "<div class=\"dni-plaintext\">872</div>"
      ]
     },
     "metadata": {},
     "output_type": "display_data"
    }
   ],
   "source": [
    "var overlap = 0;\n",
    "foreach (var line in input) {\n",
    "    if (Overlap(line)) {\n",
    "        overlap++;\n",
    "    }\n",
    "}\n",
    "overlap"
   ]
  }
 ],
 "metadata": {
  "kernelspec": {
   "display_name": ".NET (C#)",
   "language": "C#",
   "name": ".net-csharp"
  },
  "language_info": {
   "name": "C#"
  }
 },
 "nbformat": 4,
 "nbformat_minor": 2
}
